{
 "metadata": {
  "language_info": {
   "codemirror_mode": {
    "name": "ipython",
    "version": 3
   },
   "file_extension": ".py",
   "mimetype": "text/x-python",
   "name": "python",
   "nbconvert_exporter": "python",
   "pygments_lexer": "ipython3",
   "version": "3.8.5-final"
  },
  "orig_nbformat": 2,
  "kernelspec": {
   "name": "python_defaultSpec_1602466652133",
   "display_name": "Python 3.8.5 32-bit"
  }
 },
 "nbformat": 4,
 "nbformat_minor": 2,
 "cells": [
  {
   "cell_type": "code",
   "execution_count": 8,
   "metadata": {
    "tags": []
   },
   "outputs": [
    {
     "output_type": "stream",
     "name": "stdout",
     "text": "2\n"
    }
   ],
   "source": [
    "a=int(input(\"a=\"))\n",
    "n=0\n",
    "b=a//100\n",
    "n=n+b\n",
    "c=(a%100)//50\n",
    "n=n+c\n",
    "d=\n",
    "print(a)"
   ]
  },
  {
   "cell_type": "code",
   "execution_count": 29,
   "metadata": {
    "tags": []
   },
   "outputs": [
    {
     "output_type": "stream",
     "name": "stdout",
     "text": "8\n"
    }
   ],
   "source": [
    "a=int(input(\"a=\"))\n",
    "n=0\n",
    "b=a//100\n",
    "n=n+b\n",
    "c=(a%100)//50\n",
    "n=n+c\n",
    "d=((a%100)%50)//25\n",
    "n=n+d\n",
    "e=(((a%100)%50)%25)//10\n",
    "n=n+e\n",
    "g=((((a%100)%50)%25)%10)//5\n",
    "n=n+g\n",
    "q=((((a%100)%50)%25)%10)%5\n",
    "n=n+q\n",
    "print(n)"
   ]
  }
 ]
}